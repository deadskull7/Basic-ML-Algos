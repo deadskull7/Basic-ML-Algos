{
 "cells": [
  {
   "cell_type": "code",
   "execution_count": 1,
   "metadata": {
    "collapsed": true
   },
   "outputs": [],
   "source": [
    "import numpy as np"
   ]
  },
  {
   "cell_type": "code",
   "execution_count": 3,
   "metadata": {
    "collapsed": true
   },
   "outputs": [],
   "source": [
    "class naive_bayes():\n",
    "    def __init__(self, x, y):\n",
    "        self.mean_0 = np.mean([x_i for x_i, y_i in zip(x, y) if y_i == 0])\n",
    "        self.var_0 = np.std([x_i for x_i, y_i in zip(x, y) if y_i == 0])**2\n",
    "        self.mean_1 = np.mean([x_i for x_i, y_i in zip(x, y) if y_i == 1])\n",
    "        self.var_1 = np.std([x_i for x_i, y_i in zip(x, y) if y_i == 1])**2\n",
    "        \n",
    "    def prior(self, prior):\n",
    "        self.priori = prior\n",
    "        \n",
    "    def likelihood(self, x, true=True):\n",
    "        if true:\n",
    "            return 1 / sqrt(2.*np.pi*self.var_1) * np.exp(-(x-self.mean_1)**2/(2.*self.var_1))\n",
    "        else:\n",
    "            return 1 / sqrt(2.*np.pi*self.var_0) * np.exp(-(x-self.mean_0)**2/(2.*self.var_0))\n",
    "        \n",
    "    def posterior(self, x):\n",
    "        p_0 = self.priori[0]*self.likelihood(x, False)\n",
    "        p_1 = self.priori[1]*self.likelihood(x, True)\n",
    "        # print \"Probability of True = {}\".format(p_0)\n",
    "        # print \"Probability of False = {}\".format(p_1)\n",
    "        if  p_0 > p_1:\n",
    "            return 0\n",
    "        else:\n",
    "            return 1"
   ]
  },
  {
   "cell_type": "code",
   "execution_count": 11,
   "metadata": {},
   "outputs": [
    {
     "name": "stdout",
     "output_type": "stream",
     "text": [
      "50 of 50 correctly classified\n"
     ]
    }
   ],
   "source": [
    "x = range(50)\n",
    "y = np.zeros(50)\n",
    "y[25:] = 1\n",
    "print \n",
    "nb = naive_bayes(x, y)\n",
    "nb.prior([1/2., 1/2.])\n",
    "t = map(nb.posterior, x)\n",
    "print(str(len(y)) + \" of \" + str(len(y)-sum(t == y)) + \" correctly classified\")"
   ]
  },
  {
   "cell_type": "code",
   "execution_count": null,
   "metadata": {
    "collapsed": true
   },
   "outputs": [],
   "source": []
  }
 ],
 "metadata": {
  "kernelspec": {
   "display_name": "Python 3",
   "language": "python",
   "name": "python3"
  },
  "language_info": {
   "codemirror_mode": {
    "name": "ipython",
    "version": 3
   },
   "file_extension": ".py",
   "mimetype": "text/x-python",
   "name": "python",
   "nbconvert_exporter": "python",
   "pygments_lexer": "ipython3",
   "version": "3.6.3"
  }
 },
 "nbformat": 4,
 "nbformat_minor": 2
}
