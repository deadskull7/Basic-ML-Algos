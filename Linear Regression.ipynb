{
 "cells": [
  {
   "cell_type": "code",
   "execution_count": 19,
   "metadata": {
    "collapsed": true
   },
   "outputs": [],
   "source": [
    "from __future__ import division\n",
    "import pandas as pd \n",
    "import numpy as np \n",
    "import matplotlib.pyplot as plt \n",
    "import math"
   ]
  },
  {
   "cell_type": "code",
   "execution_count": 20,
   "metadata": {},
   "outputs": [],
   "source": [
    "data = np.genfromtxt('ex1data1.txt',delimiter=',')\n",
    "x=data[:,0]\n",
    "y=data[:,1]\n",
    "m=len(y)\n",
    "a=np.ones((m,2))"
   ]
  },
  {
   "cell_type": "code",
   "execution_count": 21,
   "metadata": {
    "collapsed": true
   },
   "outputs": [],
   "source": [
    "def cost(x, y, theta=np.zeros((2,1))):\n",
    "    #Computes the cost of linear regression\n",
    "    m = len(x)\n",
    "    J = 1/(2*m) * sum((x.dot(theta).flatten()- y)**2)\n",
    "    return J"
   ]
  },
  {
   "cell_type": "code",
   "execution_count": 22,
   "metadata": {},
   "outputs": [],
   "source": [
    "def gradientDesc(x, y, theta=np.zeros((2,1)), alpha=.01,iterations=1500):\n",
    "    \"\"\"\"Gradient Descent implementation of \n",
    "    linear regression with one variable\"\"\"\n",
    "    m = y.size\n",
    "    J = []\n",
    "    for numbers in range(iterations):\n",
    "        a = theta[0][0] - alpha*(1/m)*sum((x.dot(theta).flatten() - y)*x[:,0])\n",
    "        b = theta[1][0] - alpha*(1/m)*sum((x.dot(theta).flatten() - y)*x[:,1])\n",
    "        theta[0][0],theta[1][0]=a,b\n",
    "        print(theta[0][0])\n",
    "        print(theta[1][0])\n",
    "        J.append(cost(x,y,theta))\n",
    "        print('Cost: ' + str(J[-1]))\n",
    "        return theta"
   ]
  },
  {
   "cell_type": "code",
   "execution_count": 23,
   "metadata": {
    "collapsed": true
   },
   "outputs": [],
   "source": [
    "def scatterPlot(x,y,yp=None,savePng=False):\n",
    "    plt.xlabel('Population of City in 10,000s')\n",
    "    plt.ylabel('Profit in $10,000s')\n",
    "    plt.scatter(x, y, marker='x')\n",
    "    if yp != None:\n",
    "        plt.plot(x,yp)\n",
    "    if savePng==false:\n",
    "        plt.show()\n",
    "    else:\n",
    "        name = raw_input('Name Figure File: ')\n",
    "    plt.savefig(name+'.png')"
   ]
  },
  {
   "cell_type": "code",
   "execution_count": 24,
   "metadata": {
    "collapsed": true
   },
   "outputs": [],
   "source": [
    "df = pd.read_csv('ex1data1.txt', header = None, names = ['x','y'])\n",
    "x = np.array(df.x)\n",
    "y = np.array(df.y)\n",
    "theta = np.zeros((2,1))"
   ]
  },
  {
   "cell_type": "code",
   "execution_count": 25,
   "metadata": {},
   "outputs": [
    {
     "data": {
      "image/png": "[encoded data removed]",
      "text/plain": [
       "<matplotlib.figure.Figure at 0x18b2ba2c9e8>"
      ]
     },
     "metadata": {},
     "output_type": "display_data"
    }
   ],
   "source": [
    "def scatterPlot(x,y,yp=None,savePng=False):\n",
    "    plt.xlabel('Population of City in 10,000s')\n",
    "    plt.ylabel('Profit in $10,000s')\n",
    "    plt.scatter(x, y, marker='x')\n",
    "    if yp != None:\n",
    "        plt.plot(x,yp)\n",
    "    if savePng==False:\n",
    "        plt.show()\n",
    "    else:\n",
    "        name = raw_input('Name Figure File: ')\n",
    "        plt.savefig(name+'.png')\n",
    "\n",
    "\n",
    "scatterPlot(x,y)\n"
   ]
  },
  {
   "cell_type": "code",
   "execution_count": 26,
   "metadata": {},
   "outputs": [
    {
     "name": "stdout",
     "output_type": "stream",
     "text": [
      "Slope is 1.19303364419\n",
      "Y intercept is -3.89578087831\n"
     ]
    },
    {
     "name": "stderr",
     "output_type": "stream",
     "text": [
      "C:\\Users\\RV\\Anaconda3\\lib\\site-packages\\ipykernel_launcher.py:5: FutureWarning: comparison to `None` will result in an elementwise object comparison in the future.\n",
      "  \"\"\"\n"
     ]
    },
    {
     "data": {
      "image/png": "[encoded data removed]",
      "text/plain": [
       "<matplotlib.figure.Figure at 0x18b2aa1e390>"
      ]
     },
     "metadata": {},
     "output_type": "display_data"
    }
   ],
   "source": [
    "(m,b) = np.polyfit(x,y,1)\n",
    "print('Slope is ' + str(m))\n",
    "print('Y intercept is ' + str(b))\n",
    "yp = np.polyval([m,b],x)\n",
    "scatterPlot(x,y,yp)"
   ]
  },
  {
   "cell_type": "code",
   "execution_count": null,
   "metadata": {
    "collapsed": true
   },
   "outputs": [],
   "source": []
  },
  {
   "cell_type": "code",
   "execution_count": null,
   "metadata": {
    "collapsed": true
   },
   "outputs": [],
   "source": []
  }
 ],
 "metadata": {
  "kernelspec": {
   "display_name": "Python 3",
   "language": "python",
   "name": "python3"
  },
  "language_info": {
   "codemirror_mode": {
    "name": "ipython",
    "version": 3
   },
   "file_extension": ".py",
   "mimetype": "text/x-python",
   "name": "python",
   "nbconvert_exporter": "python",
   "pygments_lexer": "ipython3",
   "version": "3.6.3"
  }
 },
 "nbformat": 4,
 "nbformat_minor": 2
}
